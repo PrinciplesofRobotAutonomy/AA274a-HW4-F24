{
  "cells": [
    {
      "cell_type": "markdown",
      "metadata": {
        "colab_type": "text",
        "id": "view-in-github"
      },
      "source": [
        "<a href=\"https://colab.research.google.com/github/chengine/aa273spring2024/blob/main/GTSAM/AA273_GTSAM_Testing.ipynb\" target=\"_parent\"><img src=\"https://colab.research.google.com/assets/colab-badge.svg\" alt=\"Open In Colab\"/></a>"
      ]
    },
    {
      "cell_type": "markdown",
      "metadata": {
        "id": "x-zYvYPJEfEG"
      },
      "source": [
        "# GTSAM test\n",
        "https://github.com/borglab/gtsam/blob/develop/python/gtsam/examples/Pose2SLAMExample.py"
      ]
    },
    {
      "cell_type": "code",
      "execution_count": 1,
      "metadata": {
        "colab": {
          "base_uri": "https://localhost:8080/"
        },
        "id": "5T2q8O59Eb2x",
        "outputId": "0818bd65-63d0-4322-c84a-9920c6d6f4ff"
      },
      "outputs": [],
      "source": [
        "# !pip install gtsam"
      ]
    },
    {
      "cell_type": "code",
      "execution_count": 2,
      "metadata": {
        "id": "EMJU_XUoEiMW"
      },
      "outputs": [],
      "source": [
        "import gtsam\n",
        "import math\n",
        "import gtsam.utils.plot as gtsam_plot\n",
        "import matplotlib.pyplot as plt"
      ]
    },
    {
      "cell_type": "code",
      "execution_count": 3,
      "metadata": {
        "id": "FY2n70zeEjkG"
      },
      "outputs": [],
      "source": [
        "# Create noise models\n",
        "PRIOR_NOISE = gtsam.noiseModel.Diagonal.Sigmas(gtsam.Point3(0.3, 0.3, 0.1))\n",
        "ODOMETRY_NOISE = gtsam.noiseModel.Diagonal.Sigmas(\n",
        "    gtsam.Point3(0.2, 0.2, 0.1))\n",
        "\n",
        "# 1. Create a factor graph container and add factors to it\n",
        "graph = gtsam.NonlinearFactorGraph()\n",
        "\n",
        "# 2a. Add a prior on the first pose, setting it to the origin\n",
        "# A prior factor consists of a mean and a noise ODOMETRY_NOISE (covariance matrix)\n",
        "graph.add(gtsam.PriorFactorPose2(1, gtsam.Pose2(0, 0, 0), PRIOR_NOISE))\n",
        "\n",
        "# 2b. Add odometry factors\n",
        "# Create odometry (Between) factors between consecutive poses\n",
        "graph.add(\n",
        "    gtsam.BetweenFactorPose2(1, 2, gtsam.Pose2(2, 0, 0), ODOMETRY_NOISE))\n",
        "graph.add(\n",
        "    gtsam.BetweenFactorPose2(2, 3, gtsam.Pose2(2, 0, math.pi / 2),\n",
        "                                ODOMETRY_NOISE))\n",
        "graph.add(\n",
        "    gtsam.BetweenFactorPose2(3, 4, gtsam.Pose2(2, 0, math.pi / 2),\n",
        "                                ODOMETRY_NOISE))\n",
        "graph.add(\n",
        "    gtsam.BetweenFactorPose2(4, 5, gtsam.Pose2(2, 0, math.pi / 2),\n",
        "                                ODOMETRY_NOISE))"
      ]
    },
    {
      "cell_type": "code",
      "execution_count": null,
      "metadata": {
        "colab": {
          "base_uri": "https://localhost:8080/"
        },
        "id": "yJM6Zq4uEl6n",
        "outputId": "6622ed02-f652-4844-b19a-a1a4dafdd122"
      },
      "outputs": [],
      "source": [
        "# 2c. Add the loop closure constraint\n",
        "# This factor encodes the fact that we have returned to the same pose. In real\n",
        "# systems, these constraints may be identified in many ways, such as appearance-based\n",
        "# techniques with camera images. We will use another Between Factor to enforce this constraint:\n",
        "graph.add(\n",
        "    gtsam.BetweenFactorPose2(5, 2, gtsam.Pose2(2, 0, math.pi / 2),\n",
        "                                ODOMETRY_NOISE))\n",
        "print(\"\\nFactor Graph:\\n{}\".format(graph))  # print\n",
        "\n",
        "# 3. Create the data structure to hold the initial_estimate estimate to the\n",
        "# solution. For illustrative purposes, these have been deliberately set to incorrect values\n",
        "initial_estimate = gtsam.Values()\n",
        "initial_estimate.insert(1, gtsam.Pose2(0.5, 0.0, 0.2))\n",
        "initial_estimate.insert(2, gtsam.Pose2(2.3, 0.1, -0.2))\n",
        "initial_estimate.insert(3, gtsam.Pose2(4.1, 0.1, math.pi / 2))\n",
        "initial_estimate.insert(4, gtsam.Pose2(4.0, 2.0, math.pi))\n",
        "initial_estimate.insert(5, gtsam.Pose2(2.1, 2.1, -math.pi / 2))\n",
        "print(\"\\nInitial Estimate:\\n{}\".format(initial_estimate))  # print"
      ]
    },
    {
      "cell_type": "code",
      "execution_count": null,
      "metadata": {
        "colab": {
          "base_uri": "https://localhost:8080/"
        },
        "id": "YdWhOka2Enym",
        "outputId": "c864ea07-97d1-47ff-b2d9-c3881cb9dc89"
      },
      "outputs": [],
      "source": [
        "# 4. Optimize the initial values using a Gauss-Newton nonlinear optimizer\n",
        "# The optimizer accepts an optional set of configuration parameters,\n",
        "# controlling things like convergence criteria, the type of linear\n",
        "# system solver to use, and the amount of information displayed during\n",
        "# optimization. We will set a few parameters as a demonstration.\n",
        "parameters = gtsam.GaussNewtonParams()\n",
        "\n",
        "# Stop iterating once the change in error between steps is less than this value\n",
        "parameters.setRelativeErrorTol(1e-5)\n",
        "# Do not perform more than N iteration steps\n",
        "parameters.setMaxIterations(100)\n",
        "# Create the optimizer ...\n",
        "optimizer = gtsam.GaussNewtonOptimizer(graph, initial_estimate, parameters)\n",
        "# ... and optimize\n",
        "result = optimizer.optimize()\n",
        "print(\"Final Result:\\n{}\".format(result))"
      ]
    },
    {
      "cell_type": "code",
      "execution_count": null,
      "metadata": {
        "colab": {
          "base_uri": "https://localhost:8080/",
          "height": 883
        },
        "id": "8bZ-8ppUU-DO",
        "outputId": "f0272958-a75b-4881-d244-bf8a7466a06d"
      },
      "outputs": [],
      "source": [
        "# 5. Calculate and print marginal covariances for all variables\n",
        "marginals = gtsam.Marginals(graph, result)\n",
        "for i in range(1, 6):\n",
        "    print(\"X{} covariance:\\n{}\\n\".format(i,\n",
        "                                            marginals.marginalCovariance(i)))\n",
        "\n",
        "for i in range(1, 6):\n",
        "    gtsam_plot.plot_pose2(0, result.atPose2(i), 0.5,\n",
        "                            marginals.marginalCovariance(i))\n",
        "\n",
        "plt.axis('equal')\n",
        "plt.show()"
      ]
    },
    {
      "cell_type": "markdown",
      "metadata": {
        "id": "NsN9mGbJWAC1"
      },
      "source": [
        "https://github.com/borglab/gtsam/blob/develop/python/gtsam/examples/PlanarSLAMExample.py"
      ]
    },
    {
      "cell_type": "code",
      "execution_count": 7,
      "metadata": {
        "id": "DmlGtColWBP4"
      },
      "outputs": [],
      "source": [
        "import numpy as np\n",
        "from gtsam.symbol_shorthand import L, X"
      ]
    },
    {
      "cell_type": "code",
      "execution_count": 8,
      "metadata": {
        "id": "14qIPhEMWOmR"
      },
      "outputs": [],
      "source": [
        "# Create noise models\n",
        "PRIOR_NOISE = gtsam.noiseModel.Diagonal.Sigmas(np.array([0.3, 0.3, 0.1]))\n",
        "ODOMETRY_NOISE = gtsam.noiseModel.Diagonal.Sigmas(0.01 * np.array([0.2, 0.2, 0.1]))\n",
        "MEASUREMENT_NOISE = gtsam.noiseModel.Diagonal.Sigmas(0.01 * np.array([0.1, 0.2]))"
      ]
    },
    {
      "cell_type": "code",
      "execution_count": null,
      "metadata": {
        "colab": {
          "base_uri": "https://localhost:8080/"
        },
        "id": "biTbhvi_WFuN",
        "outputId": "2c960627-2527-42d7-a7bc-804624c45fd2"
      },
      "outputs": [],
      "source": [
        "\"\"\"Main runner\"\"\"\n",
        "\n",
        "# Create an empty nonlinear factor graph\n",
        "graph = gtsam.NonlinearFactorGraph()\n",
        "\n",
        "# Create the keys corresponding to unknown variables in the factor graph\n",
        "X1 = X(1)\n",
        "X2 = X(2)\n",
        "X3 = X(3)\n",
        "X4 = X(4)\n",
        "L1 = L(1)\n",
        "L2 = L(2)\n",
        "\n",
        "# Add a prior on pose X1 at the origin. A prior factor consists of a mean and a noise model\n",
        "graph.add(\n",
        "    gtsam.PriorFactorPose2(X1, gtsam.Pose2(0.0, 0.0, 0.0), PRIOR_NOISE))\n",
        "\n",
        "# Add odometry factors between X1,X2 and X2,X3, respectively\n",
        "graph.add(\n",
        "    gtsam.BetweenFactorPose2(X1, X2, gtsam.Pose2(2.0, 0.0, 0.0),\n",
        "                                ODOMETRY_NOISE))\n",
        "graph.add(\n",
        "    gtsam.BetweenFactorPose2(X2, X3, gtsam.Pose2(2.0, 0.0, 0.0),\n",
        "                                ODOMETRY_NOISE))\n",
        "\n",
        "graph.add(\n",
        "    gtsam.BetweenFactorPose2(X3, X4, gtsam.Pose2(2.0, 0.0, 0.0),\n",
        "                                ODOMETRY_NOISE))\n",
        "\n",
        "graph.add(\n",
        "    gtsam.BetweenFactorPose2(X1, X4, gtsam.Pose2(6.0, 0.0, 0.0),\n",
        "                                ODOMETRY_NOISE))\n",
        "\n",
        "# Add Range-Bearing measurements to two different landmarks L1 and L2\n",
        "graph.add(\n",
        "    gtsam.BearingRangeFactor2D(X1, L1, gtsam.Rot2.fromDegrees(45),\n",
        "                                np.sqrt(4.0 + 4.0), MEASUREMENT_NOISE))\n",
        "graph.add(\n",
        "    gtsam.BearingRangeFactor2D(X2, L1, gtsam.Rot2.fromDegrees(90), 2.0,\n",
        "                                MEASUREMENT_NOISE))\n",
        "graph.add(\n",
        "    gtsam.BearingRangeFactor2D(X3, L2, gtsam.Rot2.fromDegrees(90), 2.0,\n",
        "                                MEASUREMENT_NOISE))\n",
        "\n",
        "# Print graph\n",
        "print(\"Factor Graph:\\n{}\".format(graph))\n",
        "\n",
        "# Create (deliberately inaccurate) initial estimate\n",
        "initial_estimate = gtsam.Values()\n",
        "initial_estimate.insert(X1, gtsam.Pose2(-0.25, 0.20, 0.15))\n",
        "initial_estimate.insert(X2, gtsam.Pose2(2.30, 0.10, -0.20))\n",
        "initial_estimate.insert(X3, gtsam.Pose2(4.10, 0.10, 0.10))\n",
        "initial_estimate.insert(X4, gtsam.Pose2(7.10, -3.10, 0.10))\n",
        "initial_estimate.insert(L1, gtsam.Point2(14.0, 12.10))\n",
        "initial_estimate.insert(L2, gtsam.Point2(14.10, 11.80))\n",
        "\n",
        "# Print\n",
        "print(\"Initial Estimate:\\n{}\".format(initial_estimate))\n",
        "\n",
        "# Optimize using Levenberg-Marquardt optimization. The optimizer\n",
        "# accepts an optional set of configuration parameters, controlling\n",
        "# things like convergence criteria, the type of linear system solver\n",
        "# to use, and the amount of information displayed during optimization.\n",
        "# Here we will use the default set of parameters.  See the\n",
        "# documentation for the full set of parameters.\n",
        "params = gtsam.LevenbergMarquardtParams()\n",
        "optimizer = gtsam.LevenbergMarquardtOptimizer(graph, initial_estimate,\n",
        "                                                params)\n",
        "result = optimizer.optimize()\n",
        "print(\"\\nFinal Result:\\n{}\".format(result))\n",
        "\n",
        "# Calculate and print marginal covariances for all variables\n",
        "marginals = gtsam.Marginals(graph, result)\n",
        "for (key, s) in [(X1, \"X1\"), (X2, \"X2\"), (X3, \"X3\"), (X4, \"X4\"),\n",
        "                    (L1, \"L1\"), (L2, \"L2\")]:\n",
        "    print(\"{} covariance:\\n{}\\n\".format(s,\n",
        "                                        marginals.marginalCovariance(key)))"
      ]
    },
    {
      "cell_type": "code",
      "execution_count": null,
      "metadata": {
        "colab": {
          "base_uri": "https://localhost:8080/",
          "height": 449
        },
        "id": "yHMAO3OjWSg_",
        "outputId": "228dd965-cb28-46c0-de06-b91c17ec86ac"
      },
      "outputs": [],
      "source": [
        "# for i in range(1, 3):\n",
        "#     gtsam_plot.plot_pose2(0, result.atPose2(i), 0.5,\n",
        "#                             marginals.marginalCovariance(i))\n",
        "\n",
        "for (key, s) in [(X1, \"X1\"), (X2, \"X2\"), (X3, \"X3\"), (X4, \"X4\")]:\n",
        "\n",
        "    m = marginals.marginalCovariance(key)\n",
        "    # print(\"{} covariance:\\n{}\\n\".format(s, m))\n",
        "    gtsam_plot.plot_pose2(0, result.atPose2(key), 0.5, m)\n",
        "\n",
        "for (key, s) in [(L1, \"L1\"), (L2, \"L2\")]:\n",
        "\n",
        "    m = marginals.marginalCovariance(key)\n",
        "    gtsam_plot.plot_point2(0, result.atPoint2(key), 0.5, m)\n",
        "\n",
        "plt.axis('equal')\n",
        "plt.show()"
      ]
    },
    {
      "cell_type": "markdown",
      "metadata": {
        "id": "tZ-NNqdhuWj9"
      },
      "source": [
        "# For AA 274"
      ]
    },
    {
      "cell_type": "code",
      "execution_count": null,
      "metadata": {
        "colab": {
          "base_uri": "https://localhost:8080/"
        },
        "id": "xPwT-r9AuYVA",
        "outputId": "dba94f30-6489-4e6a-8709-3166aed6776f"
      },
      "outputs": [],
      "source": [
        "\"\"\"Main runner\"\"\"\n",
        "\n",
        "# Create an empty nonlinear factor graph\n",
        "graph = gtsam.NonlinearFactorGraph()\n",
        "\n",
        "# Create the keys corresponding to unknown variables in the factor graph\n",
        "X1 = X(1)\n",
        "X2 = X(2)\n",
        "L1 = L(1)\n",
        "L2 = L(2)\n",
        "L3 = L(3)\n",
        "\n",
        "# Add a prior on pose X1 at the origin. A prior factor consists of a mean and a noise model\n",
        "graph.add(\n",
        "    gtsam.PriorFactorPose2(X1, gtsam.Pose2(0.0, 0.0, 0.0), PRIOR_NOISE))\n",
        "\n",
        "# Add odometry factors between X1,X2, respectively\n",
        "graph.add(\n",
        "    gtsam.BetweenFactorPose2(X1, X2, gtsam.Pose2(3.0, 0.0, 0.0),\n",
        "                                ODOMETRY_NOISE))\n",
        "\n",
        "# Add Range-Bearing measurements to two different landmarks L1 and L2\n",
        "graph.add(\n",
        "    gtsam.BearingRangeFactor2D(X1, L1,\n",
        "                               gtsam.Rot2.fromDegrees(np.rad2deg(-2.35619449019234)),\n",
        "                               np.sqrt(2),\n",
        "                               MEASUREMENT_NOISE))\n",
        "graph.add(\n",
        "    gtsam.BearingRangeFactor2D(X1, L2,\n",
        "                               gtsam.Rot2.fromDegrees(np.rad2deg(2.356194490192344837)),\n",
        "                               np.sqrt(2),\n",
        "                               MEASUREMENT_NOISE))\n",
        "graph.add(\n",
        "    gtsam.BearingRangeFactor2D(X2, L3,\n",
        "                               gtsam.Rot2.fromDegrees(np.rad2deg(0.4636476090008061490)),\n",
        "                               2.23606797749978980,\n",
        "                               MEASUREMENT_NOISE))\n",
        "\n",
        "# Print graph\n",
        "print(\"Factor Graph:\\n{}\".format(graph))\n",
        "\n",
        "# Create (deliberately inaccurate) initial estimate\n",
        "initial_estimate = gtsam.Values()\n",
        "initial_estimate.insert(X1, gtsam.Pose2(0.1, 0.2, 0.15))\n",
        "initial_estimate.insert(X2, gtsam.Pose2(0.13, 0.12, -0.2))\n",
        "initial_estimate.insert(L1, gtsam.Point2(14.0, 12.10))\n",
        "initial_estimate.insert(L2, gtsam.Point2(14.10, 11.80))\n",
        "initial_estimate.insert(L3, gtsam.Point2(14.10, 11.80))\n",
        "\n",
        "# Print\n",
        "print(\"Initial Estimate:\\n{}\".format(initial_estimate))\n",
        "\n",
        "# Optimize using Levenberg-Marquardt optimization. The optimizer\n",
        "# accepts an optional set of configuration parameters, controlling\n",
        "# things like convergence criteria, the type of linear system solver\n",
        "# to use, and the amount of information displayed during optimization.\n",
        "# Here we will use the default set of parameters.  See the\n",
        "# documentation for the full set of parameters.\n",
        "params = gtsam.LevenbergMarquardtParams()\n",
        "optimizer = gtsam.LevenbergMarquardtOptimizer(graph, initial_estimate,\n",
        "                                                params)\n",
        "result = optimizer.optimize()\n",
        "print(\"\\nFinal Result:\\n{}\".format(result))\n",
        "\n",
        "# Calculate and print marginal covariances for all variables\n",
        "marginals = gtsam.Marginals(graph, result)\n",
        "for (key, s) in [(X1, \"X1\"), (X2, \"X2\"),\n",
        "                    (L1, \"L1\"), (L2, \"L2\"), (L3, \"L3\")]:\n",
        "    print(\"{} covariance:\\n{}\\n\".format(s,\n",
        "                                        marginals.marginalCovariance(key)))"
      ]
    },
    {
      "cell_type": "code",
      "execution_count": null,
      "metadata": {
        "colab": {
          "base_uri": "https://localhost:8080/",
          "height": 449
        },
        "id": "Z4aR95SXv8dZ",
        "outputId": "3c9ee13a-320d-46bf-9c48-245363c5107a"
      },
      "outputs": [],
      "source": [
        "for (key, s) in [(X1, \"X1\"), (X2, \"X2\")]:\n",
        "\n",
        "    m = marginals.marginalCovariance(key)\n",
        "    # print(\"{} covariance:\\n{}\\n\".format(s, m))\n",
        "    gtsam_plot.plot_pose2(0, result.atPose2(key), 0.5, m)\n",
        "\n",
        "for (key, s) in [(L1, \"L1\"), (L2, \"L2\"), (L3, \"L3\")]:\n",
        "\n",
        "    m = marginals.marginalCovariance(key)\n",
        "    gtsam_plot.plot_point2(0, result.atPoint2(key), 0.5, m)\n",
        "\n",
        "plt.axis('equal')\n",
        "plt.show()"
      ]
    }
  ],
  "metadata": {
    "colab": {
      "include_colab_link": true,
      "provenance": []
    },
    "kernelspec": {
      "display_name": "AA274",
      "language": "python",
      "name": "python3"
    },
    "language_info": {
      "codemirror_mode": {
        "name": "ipython",
        "version": 3
      },
      "file_extension": ".py",
      "mimetype": "text/x-python",
      "name": "python",
      "nbconvert_exporter": "python",
      "pygments_lexer": "ipython3",
      "version": "3.8.20"
    }
  },
  "nbformat": 4,
  "nbformat_minor": 0
}
